{
 "cells": [
  {
   "cell_type": "code",
   "execution_count": 3,
   "id": "e0810bc7-dba7-44c0-9fa8-7025566f2db4",
   "metadata": {
    "ExecuteTime": {
     "end_time": "2024-06-16T10:32:28.290850300Z",
     "start_time": "2024-06-16T10:32:24.427041400Z"
    }
   },
   "outputs": [],
   "source": [
    "import pandas as pd\n",
    "import matplotlib.pyplot as plt\n",
    "import seaborn as sns\n",
    "import numpy as np\n",
    "import pickle\n",
    "\n",
    "# from ema_workbench import (\n",
    "#     Model,\n",
    "#     Policy,\n",
    "#     ema_logging,\n",
    "#     SequentialEvaluator,\n",
    "#     MultiprocessingEvaluator, \n",
    "#     perform_experiments,\n",
    "#     Samplers, \n",
    "# )\n",
    "# from SALib.analyze import sobol\n",
    "# from ema_workbench.em_framework.salib_samplers import get_SALib_problem\n",
    "# from ema_workbench.analysis import (feature_scoring, pairs_plotting)\n",
    "from ema_workbench.analysis import prim\n",
    "from ema_workbench import ema_logging\n",
    "from ema_workbench import SequentialEvaluator\n",
    "\n",
    "# from dike_model_function import DikeNetwork  # @UnresolvedImport\n",
    "from problem_formulation import get_model_for_problem_formulation, sum_over, sum_over_time\n",
    "# from ema_workbench import Model, RealParameter, TimeSeriesOutcome, ScalarOutcome\n",
    "\n"
   ]
  },
  {
   "cell_type": "code",
   "execution_count": 4,
   "id": "0c13c327-0a99-49f6-8c02-7b2d377b1fa0",
   "metadata": {
    "ExecuteTime": {
     "end_time": "2024-06-16T10:32:29.078640700Z",
     "start_time": "2024-06-16T10:32:28.294841200Z"
    }
   },
   "outputs": [
    {
     "name": "stdout",
     "output_type": "stream",
     "text": [
      "<ema_workbench.em_framework.model.Model object at 0x0000018024C42A50>\n",
      "[0 1 2]\n"
     ]
    },
    {
     "ename": "TypeError",
     "evalue": "cannot unpack non-iterable ellipsis object",
     "output_type": "error",
     "traceback": [
      "\u001B[1;31m---------------------------------------------------------------------------\u001B[0m",
      "\u001B[1;31mTypeError\u001B[0m                                 Traceback (most recent call last)",
      "Cell \u001B[1;32mIn[4], line 7\u001B[0m\n\u001B[0;32m      4\u001B[0m \u001B[38;5;28mprint\u001B[39m(planning_steps)\n\u001B[0;32m      6\u001B[0m \u001B[38;5;66;03m# We will need experiments and outcomes, for the sake of scoping they are listed here\u001B[39;00m\n\u001B[1;32m----> 7\u001B[0m experiments, outcomes \u001B[38;5;241m=\u001B[39m \u001B[38;5;241m.\u001B[39m\u001B[38;5;241m.\u001B[39m\u001B[38;5;241m.\u001B[39m\n",
      "\u001B[1;31mTypeError\u001B[0m: cannot unpack non-iterable ellipsis object"
     ]
    }
   ],
   "source": [
    "# First, get the model\n",
    "dike_model, planning_steps = get_model_for_problem_formulation(3)\n",
    "print(dike_model)\n",
    "print(planning_steps)\n",
    "\n",
    "# We will need experiments and outcomes, for the sake of scoping they are listed here\n",
    "experiments, outcomes = ..."
   ]
  },
  {
   "cell_type": "code",
   "execution_count": null,
   "id": "6e7a4a355ccc20d1",
   "metadata": {
    "collapsed": false,
    "ExecuteTime": {
     "end_time": "2024-06-16T10:32:29.104561Z",
     "start_time": "2024-06-16T10:32:29.079629100Z"
    }
   },
   "outputs": [],
   "source": [
    "# Optional: run the model a bunch of times and save it to a file, change boolean below if you want to run it or not\n",
    "# False means: don't run it and use the presaved data\n",
    "# True means: do run the program\n",
    "want_to_run = False\n",
    "\n",
    "if want_to_run:\n",
    "    with SequentialEvaluator(dike_model) as evaluator:\n",
    "        results = evaluator.perform_experiments(scenarios=100, policies=30)\n",
    "        \n",
    "    # split the results into experiments and outcomes\n",
    "    experiments, outcomes = results\n",
    "    experiments.info()\n",
    "    \n",
    "    #save the results so that this (which takes like 2 hours) doesn't need to be rerun over and over\n",
    "    with open('data from all the runs', 'wb') as file:\n",
    "        pickle.dump(results, file)\n",
    "    "
   ]
  },
  {
   "cell_type": "code",
   "execution_count": null,
   "id": "19b1caa364d6379e",
   "metadata": {
    "collapsed": false,
    "ExecuteTime": {
     "start_time": "2024-06-16T10:32:29.081624600Z"
    }
   },
   "outputs": [],
   "source": [
    "if not want_to_run:\n",
    "    # open the results so that you do prim on them\n",
    "    with open('data from all the runs', 'rb') as file:\n",
    "        loaded_data = pickle.load(file)\n",
    "    experiments, outcomes = loaded_data\n",
    "    print(outcomes)"
   ]
  },
  {
   "cell_type": "code",
   "execution_count": null,
   "id": "13fd1014-5f7b-4858-94d7-754108c4d57b",
   "metadata": {
    "tags": [],
    "ExecuteTime": {
     "start_time": "2024-06-16T10:32:29.083618600Z"
    }
   },
   "outputs": [],
   "source": [
    "# Datacleaning\n",
    "experiments.head()\n",
    "\n",
    "# Remove irrelevant columns\n",
    "experiments.drop(columns=['policy', 'scenario', 'model'], inplace = True)"
   ]
  },
  {
   "cell_type": "code",
   "execution_count": null,
   "id": "f376a73011d5969c",
   "metadata": {
    "collapsed": false,
    "ExecuteTime": {
     "start_time": "2024-06-16T10:32:29.087606500Z"
    }
   },
   "outputs": [],
   "source": [
    "df = pd.DataFrame(outcomes)\n",
    "\n",
    "# Summing the total costs\n",
    "df['Total Costs'] = df[['A.1 Total Costs', 'A.2 Total Costs', 'A.3 Total Costs', \n",
    "                        'A.4 Total Costs', 'A.5 Total Costs', 'RfR Total Costs', \n",
    "                        'Expected Evacuation Costs']].sum(axis=1)\n",
    "\n",
    "# Summing the total expected number of deaths\n",
    "df['Total Deaths'] = df[['A.1_Expected Number of Deaths', 'A.2_Expected Number of Deaths', \n",
    "                         'A.3_Expected Number of Deaths', 'A.4_Expected Number of Deaths', \n",
    "                         'A.5_Expected Number of Deaths']].sum(axis=1)\n"
   ]
  },
  {
   "cell_type": "code",
   "execution_count": null,
   "id": "f5f0bac438887da1",
   "metadata": {
    "collapsed": false,
    "tags": [],
    "ExecuteTime": {
     "start_time": "2024-06-16T10:32:29.088605300Z"
    }
   },
   "outputs": [],
   "source": [
    "#250 000 000 budget euro\n",
    "\n",
    "# Define what policies are deemed unacceptable\n",
    "df['Unacceptable'] = ( (df['Total Deaths'] > 0) & (df['Total Costs'] > 300000000)).astype(int) \n",
    "# Turn these values into the y variable in the form of an array\n",
    "y = df['Unacceptable'].values\n",
    "print(y)\n",
    "print(df['Unacceptable'].value_counts(1))"
   ]
  },
  {
   "cell_type": "code",
   "execution_count": null,
   "id": "419ce775271afa40",
   "metadata": {
    "collapsed": false,
    "tags": [],
    "ExecuteTime": {
     "start_time": "2024-06-16T10:32:29.090603800Z"
    }
   },
   "outputs": [],
   "source": [
    "ema_logging.log_to_stderr(ema_logging.INFO)\n",
    "\n",
    "#Perform prim\n",
    "prim_alg = prim.Prim(experiments, y, threshold=0.7, peel_alpha=0.05)\n",
    "box1 = prim_alg.find_box()\n",
    "box1.show_tradeoff(annotated=True)\n",
    "plt.show()\n",
    "\n"
   ]
  },
  {
   "cell_type": "code",
   "execution_count": null,
   "id": "144ab864797a1b79",
   "metadata": {
    "collapsed": false,
    "tags": [],
    "ExecuteTime": {
     "start_time": "2024-06-16T10:32:29.092604400Z"
    }
   },
   "outputs": [],
   "source": [
    "# Pick a point\n",
    "point = 5\n",
    "box1.inspect(point)"
   ]
  },
  {
   "cell_type": "code",
   "execution_count": null,
   "id": "35fb1885514915d5",
   "metadata": {
    "collapsed": false,
    "tags": [],
    "ExecuteTime": {
     "start_time": "2024-06-16T10:32:29.094589300Z"
    }
   },
   "outputs": [],
   "source": [
    "# Make the weird plot thing\n",
    "box1.inspect(point, style='graph')\n",
    "plt.show()"
   ]
  },
  {
   "cell_type": "code",
   "execution_count": null,
   "id": "94ede0c6821542d5",
   "metadata": {
    "collapsed": false,
    "tags": [],
    "ExecuteTime": {
     "start_time": "2024-06-16T10:32:29.095586700Z"
    }
   },
   "outputs": [],
   "source": [
    "# See how reproducable it is\n",
    "box1.resample(point)"
   ]
  },
  {
   "cell_type": "code",
   "execution_count": null,
   "id": "3afd4479-3543-4b32-aa74-21d69c0e8606",
   "metadata": {
    "tags": [],
    "ExecuteTime": {
     "start_time": "2024-06-16T10:32:29.097580800Z"
    }
   },
   "outputs": [],
   "source": [
    "#Make pretty plots for the chosen point\n",
    "box1.select(point)\n",
    "box1.show_pairs_scatter()\n",
    "fig = plt.gcf()\n",
    "fig.set_size_inches(12,12)\n",
    "plt.show()"
   ]
  },
  {
   "cell_type": "code",
   "execution_count": null,
   "id": "76f27bd7-78dd-46e0-82d9-32f8133fdc1e",
   "metadata": {
    "ExecuteTime": {
     "start_time": "2024-06-16T10:32:29.098578400Z"
    }
   },
   "outputs": [],
   "source": []
  },
  {
   "cell_type": "code",
   "execution_count": null,
   "id": "22c13b85-217e-405b-bcde-b835484e9912",
   "metadata": {
    "ExecuteTime": {
     "start_time": "2024-06-16T10:32:29.099576900Z"
    }
   },
   "outputs": [],
   "source": []
  },
  {
   "cell_type": "code",
   "execution_count": null,
   "id": "886228b2-ba50-494a-a0c6-259a72fe3ef3",
   "metadata": {
    "ExecuteTime": {
     "start_time": "2024-06-16T10:32:29.100572900Z"
    }
   },
   "outputs": [],
   "source": []
  }
 ],
 "metadata": {
  "kernelspec": {
   "display_name": "Python 3 (ipykernel)",
   "language": "python",
   "name": "python3"
  },
  "language_info": {
   "codemirror_mode": {
    "name": "ipython",
    "version": 3
   },
   "file_extension": ".py",
   "mimetype": "text/x-python",
   "name": "python",
   "nbconvert_exporter": "python",
   "pygments_lexer": "ipython3",
   "version": "3.11.5"
  }
 },
 "nbformat": 4,
 "nbformat_minor": 5
}
