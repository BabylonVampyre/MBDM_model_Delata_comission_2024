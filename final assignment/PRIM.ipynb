{
 "cells": [
  {
   "cell_type": "markdown",
   "id": "687b23d3-978b-4a0c-abe3-a35026173a5a",
   "metadata": {},
   "source": [
    "# PRIM to Find Worst Case Scenarios\n",
    "\n",
    "In this notebook, prim will be used to find the policy levers that should be avoided. "
   ]
  },
  {
   "cell_type": "code",
   "execution_count": 1,
   "id": "e0810bc7-dba7-44c0-9fa8-7025566f2db4",
   "metadata": {
    "ExecuteTime": {
     "end_time": "2024-06-18T12:44:19.314335400Z",
     "start_time": "2024-06-18T12:44:17.271828600Z"
    }
   },
   "outputs": [],
   "source": [
    "import pandas as pd\n",
    "import matplotlib.pyplot as plt\n",
    "import seaborn as sns\n",
    "import numpy as np\n",
    "import pickle\n",
    "\n",
    "from ema_workbench.analysis import prim\n",
    "from ema_workbench import ema_logging\n",
    "from ema_workbench import SequentialEvaluator\n",
    "\n",
    "from problem_formulation import get_model_for_problem_formulation, sum_over, sum_over_time"
   ]
  },
  {
   "cell_type": "markdown",
   "id": "6122b280-460d-41d2-8327-0d5d9dc7a154",
   "metadata": {},
   "source": [
    "The dike_model is fetched with problem formulation 3"
   ]
  },
  {
   "cell_type": "code",
   "execution_count": 2,
   "id": "0c13c327-0a99-49f6-8c02-7b2d377b1fa0",
   "metadata": {
    "ExecuteTime": {
     "end_time": "2024-06-16T10:32:29.078640700Z",
     "start_time": "2024-06-16T10:32:28.294841200Z"
    }
   },
   "outputs": [
    {
     "name": "stdout",
     "output_type": "stream",
     "text": [
      "<ema_workbench.em_framework.model.Model object at 0x000002614BF48450>\n",
      "[0 1 2]\n"
     ]
    }
   ],
   "source": [
    "# First, get the model\n",
    "dike_model, planning_steps = get_model_for_problem_formulation(3)\n",
    "print(dike_model)\n",
    "print(planning_steps)\n",
    "\n",
    "# We will need experiments and outcomes, for the sake of scoping they are listed here\n",
    "experiments, outcomes = (...,...)"
   ]
  },
  {
   "cell_type": "markdown",
   "id": "e42a925e-394f-4816-abe3-1ddfb1864c14",
   "metadata": {},
   "source": [
    "Running the model takes a long time, so that can be avoided by reading the model from a file."
   ]
  },
  {
   "cell_type": "code",
   "execution_count": 3,
   "id": "6e7a4a355ccc20d1",
   "metadata": {
    "ExecuteTime": {
     "end_time": "2024-06-16T10:32:29.104561Z",
     "start_time": "2024-06-16T10:32:29.079629100Z"
    },
    "collapsed": false,
    "jupyter": {
     "outputs_hidden": false
    }
   },
   "outputs": [],
   "source": [
    "# Optional: run the model a bunch of times and save it to a file, change boolean below if you want to run it or not\n",
    "# False means: don't run it and use the presaved data\n",
    "# True means: do run the program\n",
    "want_to_run = False\n",
    "\n",
    "if want_to_run:\n",
    "    with SequentialEvaluator(dike_model) as evaluator:\n",
    "        results = evaluator.perform_experiments(scenarios=100, policies=30)\n",
    "        \n",
    "    # split the results into experiments and outcomes\n",
    "    experiments, outcomes = results\n",
    "    experiments.info()\n",
    "    \n",
    "    #save the results so that this (which takes like 2 hours) doesn't need to be rerun over and over\n",
    "    with open('data from all the runs', 'wb') as file:\n",
    "        pickle.dump(results, file)\n",
    "    "
   ]
  },
  {
   "cell_type": "code",
   "execution_count": 4,
   "id": "19b1caa364d6379e",
   "metadata": {
    "ExecuteTime": {
     "start_time": "2024-06-16T10:32:29.081624600Z"
    },
    "collapsed": false,
    "jupyter": {
     "outputs_hidden": false
    }
   },
   "outputs": [
    {
     "name": "stdout",
     "output_type": "stream",
     "text": [
      "{'A.1 Total Costs': array([1.94659397e+08, 1.94659397e+08, 1.94659397e+08, ...,\n",
      "       8.52460193e+07, 8.52460193e+07, 8.52460193e+07]), 'A.1_Expected Number of Deaths': array([0., 0., 0., ..., 0., 0., 0.]), 'A.2 Total Costs': array([2.11704040e+08, 2.08510939e+08, 2.08510939e+08, ...,\n",
      "       2.12039158e+08, 2.19001990e+08, 2.12039158e+08]), 'A.2_Expected Number of Deaths': array([0.00450829, 0.        , 0.        , ..., 0.        , 0.0065977 ,\n",
      "       0.        ]), 'A.3 Total Costs': array([1.76088342e+08, 1.76088342e+08, 1.76088342e+08, ...,\n",
      "       1.02228374e+08, 1.02228374e+08, 1.02228374e+08]), 'A.3_Expected Number of Deaths': array([0., 0., 0., ..., 0., 0., 0.]), 'A.4 Total Costs': array([46653655.91965508, 46653655.91965508, 46653655.91965508, ...,\n",
      "       45041765.16252795, 45041765.16252795, 45651497.37298745]), 'A.4_Expected Number of Deaths': array([0.        , 0.        , 0.        , ..., 0.        , 0.        ,\n",
      "       0.00040016]), 'A.5 Total Costs': array([1.62406519e+08, 1.62406519e+08, 1.62406519e+08, ...,\n",
      "       1.46765122e+08, 1.46765122e+08, 1.46765122e+08]), 'A.5_Expected Number of Deaths': array([0., 0., 0., ..., 0., 0., 0.]), 'RfR Total Costs': array([1.2089e+09, 1.2089e+09, 1.2089e+09, ..., 1.0511e+09, 1.0511e+09,\n",
      "       1.0511e+09]), 'Expected Evacuation Costs': array([0., 0., 0., ..., 0., 0., 0.])}\n"
     ]
    }
   ],
   "source": [
    "if not want_to_run:\n",
    "    # open the results so that you do prim on them\n",
    "    with open('data from all the runs', 'rb') as file:\n",
    "        loaded_data = pickle.load(file)\n",
    "    experiments, outcomes = loaded_data\n",
    "    print(outcomes)"
   ]
  },
  {
   "cell_type": "markdown",
   "id": "8ccf78c6-5e8e-4c8a-a33b-db769644f08b",
   "metadata": {},
   "source": [
    "The data needs to be cleaned, so unnecesary columns are dropped. The number of the scenario or policy are not relevant and the name of the model stays the same, so that can be removed. Then, the two interesting parts are the costs and the deaths, so those are summed up."
   ]
  },
  {
   "cell_type": "code",
   "execution_count": 5,
   "id": "13fd1014-5f7b-4858-94d7-754108c4d57b",
   "metadata": {
    "ExecuteTime": {
     "start_time": "2024-06-16T10:32:29.083618600Z"
    },
    "tags": []
   },
   "outputs": [],
   "source": [
    "# Datacleaning\n",
    "experiments.head()\n",
    "\n",
    "# Remove irrelevant columns\n",
    "experiments.drop(columns=['policy', 'scenario', 'model'], inplace = True)"
   ]
  },
  {
   "cell_type": "code",
   "execution_count": 6,
   "id": "f376a73011d5969c",
   "metadata": {
    "ExecuteTime": {
     "start_time": "2024-06-16T10:32:29.087606500Z"
    },
    "collapsed": false,
    "jupyter": {
     "outputs_hidden": false
    }
   },
   "outputs": [],
   "source": [
    "df = pd.DataFrame(outcomes)\n",
    "\n",
    "# Summing the total costs\n",
    "df['Total Costs'] = df[['A.1 Total Costs', 'A.2 Total Costs', 'A.3 Total Costs', \n",
    "                        'A.4 Total Costs', 'A.5 Total Costs', 'RfR Total Costs', \n",
    "                        'Expected Evacuation Costs']].sum(axis=1)\n",
    "\n",
    "# Summing the total expected number of deaths\n",
    "df['Total Deaths'] = df[['A.1_Expected Number of Deaths', 'A.2_Expected Number of Deaths', \n",
    "                         'A.3_Expected Number of Deaths', 'A.4_Expected Number of Deaths', \n",
    "                         'A.5_Expected Number of Deaths']].sum(axis=1)\n"
   ]
  },
  {
   "cell_type": "markdown",
   "id": "262251bf-ccbf-42bb-99d2-f9d4210ee73c",
   "metadata": {},
   "source": [
    "Any policy that is very expensive and does not guarantee 0 deaths should be seen as unacceptable, therefore those are marked."
   ]
  },
  {
   "cell_type": "code",
   "execution_count": 7,
   "id": "f5f0bac438887da1",
   "metadata": {
    "ExecuteTime": {
     "start_time": "2024-06-16T10:32:29.088605300Z"
    },
    "collapsed": false,
    "jupyter": {
     "outputs_hidden": false
    },
    "tags": []
   },
   "outputs": [
    {
     "name": "stdout",
     "output_type": "stream",
     "text": [
      "[1 0 0 ... 0 1 1]\n",
      "1    0.746667\n",
      "0    0.253333\n",
      "Name: Unacceptable, dtype: float64\n"
     ]
    }
   ],
   "source": [
    "#250 000 000 budget euro\n",
    "\n",
    "# Define what policies are deemed unacceptable\n",
    "df['Unacceptable'] = ( (df['Total Deaths'] > 0.0) & (df['Total Costs'] > 300000000)).astype(int) \n",
    "# Turn these values into the y variable in the form of an array\n",
    "y = df['Unacceptable'].values\n",
    "print(y)\n",
    "print(df['Unacceptable'].value_counts(1))"
   ]
  },
  {
   "cell_type": "code",
   "execution_count": null,
   "id": "c68f2b49-0793-4b6c-ba44-179fd08b4f2b",
   "metadata": {},
   "outputs": [],
   "source": []
  },
  {
   "cell_type": "code",
   "execution_count": 8,
   "id": "419ce775271afa40",
   "metadata": {
    "ExecuteTime": {
     "start_time": "2024-06-16T10:32:29.090603800Z"
    },
    "collapsed": false,
    "jupyter": {
     "outputs_hidden": false
    },
    "tags": []
   },
   "outputs": [
    {
     "name": "stderr",
     "output_type": "stream",
     "text": [
      "[MainProcess/INFO] 3000 points remaining, containing 2240 cases of interest\n",
      "[MainProcess/INFO] mean: 1.0, mass: 0.21, coverage: 0.28125, density: 1.0 restricted_dimensions: 6\n"
     ]
    },
    {
     "data": {
      "image/png": "[encoded data removed]",
      "text/plain": [
       "<Figure size 640x480 with 2 Axes>"
      ]
     },
     "metadata": {},
     "output_type": "display_data"
    }
   ],
   "source": [
    "ema_logging.log_to_stderr(ema_logging.INFO)\n",
    "\n",
    "#Perform prim\n",
    "prim_alg = prim.Prim(experiments, y, threshold=0.7, peel_alpha=0.05)\n",
    "box1 = prim_alg.find_box()\n",
    "box1.show_tradeoff(annotated=True)\n",
    "plt.show()\n",
    "\n"
   ]
  },
  {
   "cell_type": "code",
   "execution_count": 9,
   "id": "144ab864797a1b79",
   "metadata": {
    "ExecuteTime": {
     "start_time": "2024-06-16T10:32:29.092604400Z"
    },
    "collapsed": false,
    "jupyter": {
     "outputs_hidden": false
    },
    "tags": []
   },
   "outputs": [
    {
     "name": "stdout",
     "output_type": "stream",
     "text": [
      "coverage       0.797321\n",
      "density        0.828386\n",
      "id             5.000000\n",
      "k           1786.000000\n",
      "mass           0.718667\n",
      "mean           0.828386\n",
      "n           2156.000000\n",
      "res_dim        3.000000\n",
      "Name: 5, dtype: float64\n",
      "\n",
      "                                                                box 5  \\\n",
      "                                                                  min   \n",
      "A.3_DikeIncrease 0                                                0.0   \n",
      "A.3_DikeIncrease 1                                                1.0   \n",
      "num_events          {30, 31, 33, 34, 35, 36, 37, 38, 39, 41, 42, 4...   \n",
      "\n",
      "                                                                       \\\n",
      "                                                                  max   \n",
      "A.3_DikeIncrease 0                                                9.0   \n",
      "A.3_DikeIncrease 1                                                9.0   \n",
      "num_events          {30, 31, 33, 34, 35, 36, 37, 38, 39, 41, 42, 4...   \n",
      "\n",
      "                                        \n",
      "                    qp value  qp value  \n",
      "A.3_DikeIncrease 0       NaN  0.000725  \n",
      "A.3_DikeIncrease 1  0.000335  0.000009  \n",
      "num_events          0.273830       NaN  \n",
      "\n"
     ]
    },
    {
     "data": {
      "text/plain": [
       "[None]"
      ]
     },
     "execution_count": 9,
     "metadata": {},
     "output_type": "execute_result"
    }
   ],
   "source": [
    "# Pick a point\n",
    "point = 5\n",
    "box1.inspect(point)"
   ]
  },
  {
   "cell_type": "code",
   "execution_count": 10,
   "id": "35fb1885514915d5",
   "metadata": {
    "ExecuteTime": {
     "start_time": "2024-06-16T10:32:29.094589300Z"
    },
    "collapsed": false,
    "jupyter": {
     "outputs_hidden": false
    },
    "tags": []
   },
   "outputs": [
    {
     "data": {
      "image/png": "[encoded data removed]",
      "text/plain": [
       "<Figure size 640x480 with 1 Axes>"
      ]
     },
     "metadata": {},
     "output_type": "display_data"
    }
   ],
   "source": [
    "# Make the weird plot thing\n",
    "box1.inspect(point, style='graph')\n",
    "plt.show()"
   ]
  },
  {
   "cell_type": "code",
   "execution_count": 13,
   "id": "94ede0c6821542d5",
   "metadata": {
    "ExecuteTime": {
     "start_time": "2024-06-16T10:32:29.095586700Z"
    },
    "collapsed": false,
    "jupyter": {
     "outputs_hidden": false
    },
    "tags": []
   },
   "outputs": [
    {
     "name": "stderr",
     "output_type": "stream",
     "text": [
      "[MainProcess/INFO] resample 1\n"
     ]
    },
    {
     "name": "stdout",
     "output_type": "stream",
     "text": [
      "1.26.4\n"
     ]
    },
    {
     "name": "stderr",
     "output_type": "stream",
     "text": [
      "[MainProcess/INFO] resample 2\n",
      "[MainProcess/INFO] resample 3\n",
      "[MainProcess/INFO] resample 4\n",
      "[MainProcess/INFO] resample 5\n",
      "[MainProcess/INFO] resample 6\n"
     ]
    },
    {
     "ename": "AttributeError",
     "evalue": "module 'numpy' has no attribute 'int'.\n`np.int` was a deprecated alias for the builtin `int`. To avoid this error in existing code, use `int` by itself. Doing this will not modify any behavior and is safe. When replacing `np.int`, you may wish to use e.g. `np.int64` or `np.int32` to specify the precision. If you wish to review your current use, check the release note link for additional information.\nThe aliases was originally deprecated in NumPy 1.20; for more details and guidance see the original release note at:\n    https://numpy.org/devdocs/release/1.20.0-notes.html#deprecations",
     "output_type": "error",
     "traceback": [
      "\u001b[1;31m---------------------------------------------------------------------------\u001b[0m",
      "\u001b[1;31mAttributeError\u001b[0m                            Traceback (most recent call last)",
      "Cell \u001b[1;32mIn[13], line 3\u001b[0m\n\u001b[0;32m      1\u001b[0m \u001b[38;5;66;03m# See how reproducable it is\u001b[39;00m\n\u001b[0;32m      2\u001b[0m \u001b[38;5;28mprint\u001b[39m(np\u001b[38;5;241m.\u001b[39mversion\u001b[38;5;241m.\u001b[39mversion)\n\u001b[1;32m----> 3\u001b[0m \u001b[43mbox1\u001b[49m\u001b[38;5;241;43m.\u001b[39;49m\u001b[43mresample\u001b[49m\u001b[43m(\u001b[49m\u001b[38;5;241;43m5\u001b[39;49m\u001b[43m)\u001b[49m\n",
      "File \u001b[1;32m~\\Desktop\\Master\\Model based decision making\\MBDM_model_Delata_comission_2024\\.venv\\Lib\\site-packages\\ema_workbench\\analysis\\prim.py:724\u001b[0m, in \u001b[0;36mPrimBox.resample\u001b[1;34m(self, i, iterations, p)\u001b[0m\n\u001b[0;32m    715\u001b[0m             x_temp \u001b[38;5;241m=\u001b[39m x\u001b[38;5;241m.\u001b[39mloc[index, :]\u001b[38;5;241m.\u001b[39mreset_index(drop\u001b[38;5;241m=\u001b[39m\u001b[38;5;28;01mTrue\u001b[39;00m)\n\u001b[0;32m    716\u001b[0m             y_temp \u001b[38;5;241m=\u001b[39m y[index]\n\u001b[0;32m    718\u001b[0m             box \u001b[38;5;241m=\u001b[39m \u001b[43mPrim\u001b[49m\u001b[43m(\u001b[49m\n\u001b[0;32m    719\u001b[0m \u001b[43m                \u001b[49m\u001b[43mx_temp\u001b[49m\u001b[43m,\u001b[49m\n\u001b[0;32m    720\u001b[0m \u001b[43m                \u001b[49m\u001b[43my_temp\u001b[49m\u001b[43m,\u001b[49m\n\u001b[0;32m    721\u001b[0m \u001b[43m                \u001b[49m\u001b[43mthreshold\u001b[49m\u001b[38;5;241;43m=\u001b[39;49m\u001b[38;5;241;43m0.1\u001b[39;49m\u001b[43m,\u001b[49m\n\u001b[0;32m    722\u001b[0m \u001b[43m                \u001b[49m\u001b[43mpeel_alpha\u001b[49m\u001b[38;5;241;43m=\u001b[39;49m\u001b[38;5;28;43mself\u001b[39;49m\u001b[38;5;241;43m.\u001b[39;49m\u001b[43mprim\u001b[49m\u001b[38;5;241;43m.\u001b[39;49m\u001b[43mpeel_alpha\u001b[49m\u001b[43m,\u001b[49m\n\u001b[0;32m    723\u001b[0m \u001b[43m                \u001b[49m\u001b[43mpaste_alpha\u001b[49m\u001b[38;5;241;43m=\u001b[39;49m\u001b[38;5;28;43mself\u001b[39;49m\u001b[38;5;241;43m.\u001b[39;49m\u001b[43mprim\u001b[49m\u001b[38;5;241;43m.\u001b[39;49m\u001b[43mpaste_alpha\u001b[49m\u001b[43m,\u001b[49m\n\u001b[1;32m--> 724\u001b[0m \u001b[43m            \u001b[49m\u001b[43m)\u001b[49m\u001b[38;5;241;43m.\u001b[39;49m\u001b[43mfind_box\u001b[49m\u001b[43m(\u001b[49m\u001b[43m)\u001b[49m\n\u001b[0;32m    725\u001b[0m             \u001b[38;5;28mself\u001b[39m\u001b[38;5;241m.\u001b[39m_resampled\u001b[38;5;241m.\u001b[39mappend(box)\n\u001b[0;32m    727\u001b[0m counters \u001b[38;5;241m=\u001b[39m []\n",
      "File \u001b[1;32m~\\Desktop\\Master\\Model based decision making\\MBDM_model_Delata_comission_2024\\.venv\\Lib\\site-packages\\ema_workbench\\analysis\\prim.py:1155\u001b[0m, in \u001b[0;36mPrim.find_box\u001b[1;34m(self)\u001b[0m\n\u001b[0;32m   1152\u001b[0m _logger\u001b[38;5;241m.\u001b[39mdebug(\u001b[38;5;124m\"\u001b[39m\u001b[38;5;124mpeeling completed\u001b[39m\u001b[38;5;124m\"\u001b[39m)\n\u001b[0;32m   1154\u001b[0m \u001b[38;5;66;03m# perform pasting phase\u001b[39;00m\n\u001b[1;32m-> 1155\u001b[0m box \u001b[38;5;241m=\u001b[39m \u001b[38;5;28;43mself\u001b[39;49m\u001b[38;5;241;43m.\u001b[39;49m\u001b[43m_paste\u001b[49m\u001b[43m(\u001b[49m\u001b[43mbox\u001b[49m\u001b[43m)\u001b[49m\n\u001b[0;32m   1156\u001b[0m _logger\u001b[38;5;241m.\u001b[39mdebug(\u001b[38;5;124m\"\u001b[39m\u001b[38;5;124mpasting completed\u001b[39m\u001b[38;5;124m\"\u001b[39m)\n\u001b[0;32m   1158\u001b[0m message \u001b[38;5;241m=\u001b[39m \u001b[38;5;124m\"\u001b[39m\u001b[38;5;124mmean: \u001b[39m\u001b[38;5;132;01m{0}\u001b[39;00m\u001b[38;5;124m, mass: \u001b[39m\u001b[38;5;132;01m{1}\u001b[39;00m\u001b[38;5;124m, coverage: \u001b[39m\u001b[38;5;132;01m{2}\u001b[39;00m\u001b[38;5;124m, density: \u001b[39m\u001b[38;5;132;01m{3}\u001b[39;00m\u001b[38;5;124m restricted_dimensions: \u001b[39m\u001b[38;5;132;01m{4}\u001b[39;00m\u001b[38;5;124m\"\u001b[39m\n",
      "File \u001b[1;32m~\\Desktop\\Master\\Model based decision making\\MBDM_model_Delata_comission_2024\\.venv\\Lib\\site-packages\\ema_workbench\\analysis\\prim.py:1480\u001b[0m, in \u001b[0;36mPrim._paste\u001b[1;34m(self, box)\u001b[0m\n\u001b[0;32m   1478\u001b[0m         \u001b[38;5;28;01mcontinue\u001b[39;00m\n\u001b[0;32m   1479\u001b[0m     _logger\u001b[38;5;241m.\u001b[39mdebug(\u001b[38;5;124mf\u001b[39m\u001b[38;5;124m\"\u001b[39m\u001b[38;5;124mpasting \u001b[39m\u001b[38;5;132;01m{\u001b[39;00mu\u001b[38;5;132;01m}\u001b[39;00m\u001b[38;5;124m\"\u001b[39m)\n\u001b[1;32m-> 1480\u001b[0m     pastes \u001b[38;5;241m=\u001b[39m \u001b[38;5;28;43mself\u001b[39;49m\u001b[38;5;241;43m.\u001b[39;49m\u001b[43m_pastes\u001b[49m\u001b[43m[\u001b[49m\u001b[43mdtype\u001b[49m\u001b[43m]\u001b[49m\u001b[43m(\u001b[49m\u001b[38;5;28;43mself\u001b[39;49m\u001b[43m,\u001b[49m\u001b[43m \u001b[49m\u001b[43mbox\u001b[49m\u001b[43m,\u001b[49m\u001b[43m \u001b[49m\u001b[43mu\u001b[49m\u001b[43m,\u001b[49m\u001b[43m \u001b[49m\u001b[43mx\u001b[49m\u001b[43m,\u001b[49m\u001b[43m \u001b[49m\u001b[43mrestricted_dims\u001b[49m\u001b[43m)\u001b[49m\n\u001b[0;32m   1481\u001b[0m     [possible_pastes\u001b[38;5;241m.\u001b[39mappend(entry) \u001b[38;5;28;01mfor\u001b[39;00m entry \u001b[38;5;129;01min\u001b[39;00m pastes]\n\u001b[0;32m   1482\u001b[0m \u001b[38;5;28;01mif\u001b[39;00m \u001b[38;5;129;01mnot\u001b[39;00m possible_pastes:\n\u001b[0;32m   1483\u001b[0m     \u001b[38;5;66;03m# there is no peel identified, so return box\u001b[39;00m\n",
      "File \u001b[1;32m~\\Desktop\\Master\\Model based decision making\\MBDM_model_Delata_comission_2024\\.venv\\Lib\\site-packages\\ema_workbench\\analysis\\prim.py:1567\u001b[0m, in \u001b[0;36mPrim._real_paste\u001b[1;34m(self, box, u, x, resdim)\u001b[0m\n\u001b[0;32m   1565\u001b[0m dtype \u001b[38;5;241m=\u001b[39m box_paste[u]\u001b[38;5;241m.\u001b[39mdtype\n\u001b[0;32m   1566\u001b[0m \u001b[38;5;28;01mif\u001b[39;00m dtype \u001b[38;5;241m==\u001b[39m np\u001b[38;5;241m.\u001b[39mint32:\n\u001b[1;32m-> 1567\u001b[0m     paste_value \u001b[38;5;241m=\u001b[39m \u001b[43mnp\u001b[49m\u001b[38;5;241;43m.\u001b[39;49m\u001b[43mint\u001b[49m(paste_value)\n\u001b[0;32m   1569\u001b[0m box_paste\u001b[38;5;241m.\u001b[39mloc[i, u] \u001b[38;5;241m=\u001b[39m paste_value\n\u001b[0;32m   1570\u001b[0m logical \u001b[38;5;241m=\u001b[39m sdutil\u001b[38;5;241m.\u001b[39m_in_box(x[resdim], box_paste[resdim])\n",
      "File \u001b[1;32m~\\Desktop\\Master\\Model based decision making\\MBDM_model_Delata_comission_2024\\.venv\\Lib\\site-packages\\numpy\\__init__.py:338\u001b[0m, in \u001b[0;36m__getattr__\u001b[1;34m(attr)\u001b[0m\n\u001b[0;32m    333\u001b[0m     warnings\u001b[38;5;241m.\u001b[39mwarn(\n\u001b[0;32m    334\u001b[0m         \u001b[38;5;124mf\u001b[39m\u001b[38;5;124m\"\u001b[39m\u001b[38;5;124mIn the future `np.\u001b[39m\u001b[38;5;132;01m{\u001b[39;00mattr\u001b[38;5;132;01m}\u001b[39;00m\u001b[38;5;124m` will be defined as the \u001b[39m\u001b[38;5;124m\"\u001b[39m\n\u001b[0;32m    335\u001b[0m         \u001b[38;5;124m\"\u001b[39m\u001b[38;5;124mcorresponding NumPy scalar.\u001b[39m\u001b[38;5;124m\"\u001b[39m, \u001b[38;5;167;01mFutureWarning\u001b[39;00m, stacklevel\u001b[38;5;241m=\u001b[39m\u001b[38;5;241m2\u001b[39m)\n\u001b[0;32m    337\u001b[0m \u001b[38;5;28;01mif\u001b[39;00m attr \u001b[38;5;129;01min\u001b[39;00m __former_attrs__:\n\u001b[1;32m--> 338\u001b[0m     \u001b[38;5;28;01mraise\u001b[39;00m \u001b[38;5;167;01mAttributeError\u001b[39;00m(__former_attrs__[attr])\n\u001b[0;32m    340\u001b[0m \u001b[38;5;28;01mif\u001b[39;00m attr \u001b[38;5;241m==\u001b[39m \u001b[38;5;124m'\u001b[39m\u001b[38;5;124mtesting\u001b[39m\u001b[38;5;124m'\u001b[39m:\n\u001b[0;32m    341\u001b[0m     \u001b[38;5;28;01mimport\u001b[39;00m \u001b[38;5;21;01mnumpy\u001b[39;00m\u001b[38;5;21;01m.\u001b[39;00m\u001b[38;5;21;01mtesting\u001b[39;00m \u001b[38;5;28;01mas\u001b[39;00m \u001b[38;5;21;01mtesting\u001b[39;00m\n",
      "\u001b[1;31mAttributeError\u001b[0m: module 'numpy' has no attribute 'int'.\n`np.int` was a deprecated alias for the builtin `int`. To avoid this error in existing code, use `int` by itself. Doing this will not modify any behavior and is safe. When replacing `np.int`, you may wish to use e.g. `np.int64` or `np.int32` to specify the precision. If you wish to review your current use, check the release note link for additional information.\nThe aliases was originally deprecated in NumPy 1.20; for more details and guidance see the original release note at:\n    https://numpy.org/devdocs/release/1.20.0-notes.html#deprecations"
     ]
    }
   ],
   "source": [
    "# See how reproducable it is\n",
    "print(np.version.version)\n",
    "box1.resample(5)"
   ]
  },
  {
   "cell_type": "code",
   "execution_count": null,
   "id": "3afd4479-3543-4b32-aa74-21d69c0e8606",
   "metadata": {
    "ExecuteTime": {
     "start_time": "2024-06-16T10:32:29.097580800Z"
    },
    "tags": []
   },
   "outputs": [],
   "source": [
    "#Make pretty plots for the chosen point\n",
    "box1.select(point)\n",
    "box1.show_pairs_scatter()\n",
    "fig = plt.gcf()\n",
    "fig.set_size_inches(12,12)\n",
    "plt.show()"
   ]
  },
  {
   "cell_type": "code",
   "execution_count": null,
   "id": "76f27bd7-78dd-46e0-82d9-32f8133fdc1e",
   "metadata": {
    "ExecuteTime": {
     "start_time": "2024-06-16T10:32:29.098578400Z"
    }
   },
   "outputs": [],
   "source": []
  },
  {
   "cell_type": "code",
   "execution_count": null,
   "id": "22c13b85-217e-405b-bcde-b835484e9912",
   "metadata": {
    "ExecuteTime": {
     "start_time": "2024-06-16T10:32:29.099576900Z"
    }
   },
   "outputs": [],
   "source": []
  },
  {
   "cell_type": "code",
   "execution_count": null,
   "id": "886228b2-ba50-494a-a0c6-259a72fe3ef3",
   "metadata": {
    "ExecuteTime": {
     "start_time": "2024-06-16T10:32:29.100572900Z"
    }
   },
   "outputs": [],
   "source": []
  }
 ],
 "metadata": {
  "kernelspec": {
   "display_name": "Python 3 (ipykernel)",
   "language": "python",
   "name": "python3"
  },
  "language_info": {
   "codemirror_mode": {
    "name": "ipython",
    "version": 3
   },
   "file_extension": ".py",
   "mimetype": "text/x-python",
   "name": "python",
   "nbconvert_exporter": "python",
   "pygments_lexer": "ipython3",
   "version": "3.11.8"
  }
 },
 "nbformat": 4,
 "nbformat_minor": 5
}
