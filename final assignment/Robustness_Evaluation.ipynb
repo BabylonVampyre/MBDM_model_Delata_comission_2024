{
 "cells": [
  {
   "cell_type": "code",
   "execution_count": 2,
   "id": "a3e20863-0037-4789-8d45-7021f808fb4f",
   "metadata": {},
   "outputs": [],
   "source": [
    "from ema_workbench import (\n",
    "    Model,\n",
    "    MultiprocessingEvaluator,\n",
    "    SequentialEvaluator,\n",
    "    ScalarOutcome,\n",
    "    IntegerParameter,\n",
    "    optimize,\n",
    "    Scenario,\n",
    "    Policy\n",
    ")\n",
    "from ema_workbench.util import ema_logging\n",
    "\n",
    "%matplotlib inline\n",
    "import numpy as np\n",
    "import pandas as pd\n",
    "import matplotlib.pyplot as plt\n",
    "import seaborn as sns\n",
    "sns.set_style('white')"
   ]
  },
  {
   "cell_type": "code",
   "execution_count": 3,
   "id": "b8a4a030-5a3f-494f-8a01-ecef39f4e200",
   "metadata": {},
   "outputs": [],
   "source": [
    "import copy\n",
    "from dike_model_function import DikeNetwork  # @UnresolvedImport\n",
    "from problem_formulation import get_model_for_problem_formulation, sum_over, sum_over_time"
   ]
  },
  {
   "cell_type": "code",
   "execution_count": 11,
   "id": "5067b516-474b-44a2-bde8-04490e94cd0c",
   "metadata": {},
   "outputs": [],
   "source": [
    "results = pd.read_csv(\"directed search results/dike_model_policy_design.csv\",index_col=0)"
   ]
  },
  {
   "cell_type": "code",
   "execution_count": 80,
   "id": "fd815ea2-a16d-4aef-adac-cadad44bdce4",
   "metadata": {},
   "outputs": [],
   "source": [
    "model, steps = get_model_for_problem_formulation(2)"
   ]
  },
  {
   "cell_type": "markdown",
   "id": "17faa36f-698a-4f86-aab6-2d969d5bdcae",
   "metadata": {},
   "source": [
    "### Re-evaluating Candidate Solutions under different scenarios\n",
    "\n",
    "- Filtering policies based on hard constraints.\n",
    "    - Expected Number of Deaths < 0.001\n",
    "    - At least one Rfr project i.e. sum(Rfr) >=1\n",
    "    - Expected Annual Damage < 0.01"
   ]
  },
  {
   "cell_type": "code",
   "execution_count": 33,
   "id": "6fa27789-207d-4215-a66b-8ab884ba72d0",
   "metadata": {},
   "outputs": [
    {
     "data": {
      "text/plain": [
       "Index(['0_RfR 0', '0_RfR 1', '0_RfR 2', '1_RfR 0', '1_RfR 1', '1_RfR 2',\n",
       "       '2_RfR 0', '2_RfR 1', '2_RfR 2', '3_RfR 0', '3_RfR 1', '3_RfR 2',\n",
       "       '4_RfR 0', '4_RfR 1', '4_RfR 2', 'EWS_DaysToThreat',\n",
       "       'A.1_DikeIncrease 0', 'A.1_DikeIncrease 1', 'A.1_DikeIncrease 2',\n",
       "       'A.2_DikeIncrease 0', 'A.2_DikeIncrease 1', 'A.2_DikeIncrease 2',\n",
       "       'A.3_DikeIncrease 0', 'A.3_DikeIncrease 1', 'A.3_DikeIncrease 2',\n",
       "       'A.4_DikeIncrease 0', 'A.4_DikeIncrease 1', 'A.4_DikeIncrease 2',\n",
       "       'A.5_DikeIncrease 0', 'A.5_DikeIncrease 1', 'A.5_DikeIncrease 2',\n",
       "       'Expected Annual Damage', 'Dike Investment Costs',\n",
       "       'RfR Investment Costs', 'Evacuation Costs', 'Expected Number of Deaths',\n",
       "       'Total Investment Costs'],\n",
       "      dtype='object')"
      ]
     },
     "execution_count": 33,
     "metadata": {},
     "output_type": "execute_result"
    }
   ],
   "source": [
    "results.columns"
   ]
  },
  {
   "cell_type": "code",
   "execution_count": 69,
   "id": "530bbb3e-f2dd-4a8c-818d-629cbd70a8bd",
   "metadata": {},
   "outputs": [],
   "source": [
    "logical_1 = results['Expected Number of Deaths']<0.001\n",
    "results['RfR_agg']=results.iloc[:,0:15].agg(['sum'],axis=\"columns\")\n",
    "logical_2 = results['RfR_agg']>=1\n",
    "logical_3 = results['Expected Annual Damage']<0.1"
   ]
  },
  {
   "cell_type": "code",
   "execution_count": 87,
   "id": "6f38ae5e-8e5a-4cf7-85b5-08cb3d089c59",
   "metadata": {},
   "outputs": [
    {
     "data": {
      "text/plain": [
       "Index(['0_RfR 0', '0_RfR 1', '0_RfR 2', '1_RfR 0', '1_RfR 1', '1_RfR 2',\n",
       "       '2_RfR 0', '2_RfR 1', '2_RfR 2', '3_RfR 0', '3_RfR 1', '3_RfR 2',\n",
       "       '4_RfR 0', '4_RfR 1', '4_RfR 2', 'EWS_DaysToThreat',\n",
       "       'A.1_DikeIncrease 0', 'A.1_DikeIncrease 1', 'A.1_DikeIncrease 2',\n",
       "       'A.2_DikeIncrease 0', 'A.2_DikeIncrease 1', 'A.2_DikeIncrease 2',\n",
       "       'A.3_DikeIncrease 0', 'A.3_DikeIncrease 1', 'A.3_DikeIncrease 2',\n",
       "       'A.4_DikeIncrease 0', 'A.4_DikeIncrease 1', 'A.4_DikeIncrease 2',\n",
       "       'A.5_DikeIncrease 0', 'A.5_DikeIncrease 1', 'A.5_DikeIncrease 2'],\n",
       "      dtype='object')"
      ]
     },
     "execution_count": 87,
     "metadata": {},
     "output_type": "execute_result"
    }
   ],
   "source": [
    "policies = results[logical_1 & logical_2 & logical_3]\n",
    "policies = policies.drop([o.name for o in model.outcomes], axis=1)\n",
    "policies = policies.drop(columns=['RfR_agg'])\n",
    "policies.columns"
   ]
  },
  {
   "cell_type": "code",
   "execution_count": 93,
   "id": "bc936972-d160-408a-9e69-96991bf98000",
   "metadata": {},
   "outputs": [],
   "source": [
    "policies_to_evaluate = []\n",
    "\n",
    "for i, policy in policies.iterrows():\n",
    "    policies_to_evaluate.append(Policy(str(i), **policy.to_dict()))"
   ]
  },
  {
   "cell_type": "code",
   "execution_count": 94,
   "id": "b7b64f5d-232f-4c95-bc59-4978f1a302cc",
   "metadata": {},
   "outputs": [
    {
     "data": {
      "text/plain": [
       "[Policy({'0_RfR 0': 0, '0_RfR 1': 0, '0_RfR 2': 0, '1_RfR 0': 0, '1_RfR 1': 0, '1_RfR 2': 0, '2_RfR 0': 0, '2_RfR 1': 0, '2_RfR 2': 1, '3_RfR 0': 0, '3_RfR 1': 0, '3_RfR 2': 0, '4_RfR 0': 0, '4_RfR 1': 0, '4_RfR 2': 0, 'EWS_DaysToThreat': 3, 'A.1_DikeIncrease 0': 2, 'A.1_DikeIncrease 1': 0, 'A.1_DikeIncrease 2': 0, 'A.2_DikeIncrease 0': 4, 'A.2_DikeIncrease 1': 0, 'A.2_DikeIncrease 2': 0, 'A.3_DikeIncrease 0': 7, 'A.3_DikeIncrease 1': 0, 'A.3_DikeIncrease 2': 0, 'A.4_DikeIncrease 0': 6, 'A.4_DikeIncrease 1': 7, 'A.4_DikeIncrease 2': 0, 'A.5_DikeIncrease 0': 7, 'A.5_DikeIncrease 1': 0, 'A.5_DikeIncrease 2': 0})]"
      ]
     },
     "execution_count": 94,
     "metadata": {},
     "output_type": "execute_result"
    }
   ],
   "source": [
    "policies_to_evaluate"
   ]
  },
  {
   "cell_type": "code",
   "execution_count": null,
   "id": "1603b9b5-63a9-4e5e-a1d8-e5a32d7f9bf9",
   "metadata": {},
   "outputs": [],
   "source": [
    "n_scenarios = 1000\n",
    "with MultiprocessingEvaluator(model) as evaluator:\n",
    "    scenario_results = evaluator.perform_experiments(n_scenarios,policies_to_evaluate)"
   ]
  },
  {
   "cell_type": "markdown",
   "id": "e2c14a50-97bd-4869-accf-ae6a19b3b075",
   "metadata": {},
   "source": [
    "### Calculating Signal to Noise Ratio"
   ]
  },
  {
   "cell_type": "code",
   "execution_count": null,
   "id": "b26204e7-2861-4ad8-a9de-91e840b5c662",
   "metadata": {},
   "outputs": [],
   "source": [
    "def s_to_n(data, direction):\n",
    "    mean = np.mean(data)\n",
    "    std = np.std(data)\n",
    "    \n",
    "    if direction==ScalarOutcome.MINIMIZE:\n",
    "        return mean/std\n",
    "    else:\n",
    "        return mean*std"
   ]
  },
  {
   "cell_type": "code",
   "execution_count": null,
   "id": "6359c843-20ed-4233-8bed-68387a42a7b8",
   "metadata": {},
   "outputs": [],
   "source": [
    "experiments, outcomes = scenario_results\n",
    "overall_scores = {}\n",
    "for policy in np.unique(experiments['policy']):\n",
    "    scores = {}\n",
    "\n",
    "    logical = experiments['policy']==policy\n",
    "    \n",
    "    for outcome in model.outcomes:\n",
    "        value  = outcomes[outcome.name][logical]\n",
    "        sn_ratio = s_to_n(value, outcome.kind)\n",
    "        scores[outcome.name] = sn_ratio\n",
    "    overall_scores[policy] = scores\n",
    "scores = pd.DataFrame.from_dict(overall_scores).T\n",
    "scores"
   ]
  },
  {
   "cell_type": "code",
   "execution_count": null,
   "id": "af02adec-0e5c-4ab3-b0c9-f1ec9a7f86cd",
   "metadata": {},
   "outputs": [],
   "source": [
    "from ema_workbench.analysis import parcoords\n",
    "\n",
    "data = scores\n",
    "limits = parcoords.get_limits(data)\n",
    "limits.loc[0, ['utility', 'inertia', 'reliability', 'max_P']] = 0\n",
    "\n",
    "paraxes = parcoords.ParallelAxes(limits)\n",
    "paraxes.plot(data)\n",
    "paraxes.invert_axis('max_P')\n",
    "plt.show()"
   ]
  }
 ],
 "metadata": {
  "kernelspec": {
   "display_name": "Python 3 (ipykernel)",
   "language": "python",
   "name": "python3"
  },
  "language_info": {
   "codemirror_mode": {
    "name": "ipython",
    "version": 3
   },
   "file_extension": ".py",
   "mimetype": "text/x-python",
   "name": "python",
   "nbconvert_exporter": "python",
   "pygments_lexer": "ipython3",
   "version": "3.11.9"
  }
 },
 "nbformat": 4,
 "nbformat_minor": 5
}
